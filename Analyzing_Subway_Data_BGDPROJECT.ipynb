{
 "cells": [
  {
   "cell_type": "markdown",
   "metadata": {},
   "source": [
    "# Subway Data Analysis\n",
    "\n",
    "## Introduction\n",
    "\n",
    "The NYC public transportation system - Metro Transit Authority - provides data for download via csv files. Part of the information available are data from the subway turnstiles, containing weekly logs for cumulative entries and exits by turnstile and by subway station during a provided timeframe.\n",
    "\n",
    "\n",
    "\n"
   ]
  },
  {
   "cell_type": "markdown",
   "metadata": {},
   "source": [
    "# About this project\n",
    "\n",
    "The goal of this project is to explore the relationship between data from the NYC Subway turnstiles and the city weather. For this, besides data from the subway, we will also need data from the weather in NYC. \n",
    "\n",
    "- Gathering data from the Internet\n",
    "- Using Statistics for Data Analysis\n",
    "- Data handling and simple graphics creation with `Pandas`\n",
    "- Using MapReduce to find out whether on an average people use the subway more when the sky is clear or on rainy days.\n",
    "\n"
   ]
  },
  {
   "cell_type": "markdown",
   "metadata": {},
   "source": [
    "## Data Gathering\n",
    "\n"
   ]
  },
  {
   "cell_type": "code",
   "execution_count": 21,
   "metadata": {},
   "outputs": [],
   "source": [
    "import urllib.request\n",
    "from bs4 import BeautifulSoup\n",
    "\n",
    "#your code here\n",
    "url = \"http://web.mta.info/developers/turnstile.html\"\n",
    "u = urllib.request.urlopen(url)\n",
    "html = u.read()\n",
    "\n",
    "soup = BeautifulSoup(html, \"html.parser\")\n",
    "links = soup.find_all('a')\n",
    "\n",
    "#List to store the filenames\n",
    "filenames = []\n",
    "\n",
    "for link in links:\n",
    "    if link.get('href') is not None and '1706' in link.get('href'):\n",
    "        #print(link.get('href').split('/')[3])\n",
    "        print(\"Retreiving file \"+link.get('href').split('/')[3]+\" from server\")\n",
    "        try:\n",
    "            urllib.request.urlretrieve(\"http://web.mta.info/developers/\"+str(link.get('href')), link.get('href').split('/')[3])\n",
    "            filenames.append(link.get('href').split('/')[3]) #Saving all the filenames in a list\n",
    "            print(\"File \"+link.get('href').split('/')[3]+\" downloaded and filename saved in list.\")\n",
    "        except:\n",
    "            print(\"Error retreiving \"+link.get('href').split('/')[3]+\" from the website.\")       \n"
   ]
  },
  {
   "cell_type": "markdown",
   "metadata": {},
   "source": [
    "\n",
    "\n",
    "Function that takes the list of all names of the file downloaded in previous step and compile them into one single file. There must be only one header line in the output file. \n",
    "\n",
    "For example, if file_1 has:\n",
    "line 1...\n",
    "line 2...\n",
    "\n",
    "and the other file, file_2, has:\n",
    "line 3...\n",
    "line 4...\n",
    "line 5...\n",
    "\n",
    "We must combine file_1 and file_2 into one master file, as follows:\n",
    "\n",
    "'C/A, UNIT, SCP, DATEn, TIMEn, DESCn, ENTRIESn, EXITSn'\n",
    "line 1...\n",
    "line 2...\n",
    "line 3...\n",
    "line 4...\n",
    "line 5...\n"
   ]
  },
  {
   "cell_type": "code",
   "execution_count": 22,
   "metadata": {},
   "outputs": [],
   "source": [
    "out_file = \"Master.txt\"\n",
    "\n",
    "def create_master_turnstile_file(filenames, output_file):\n",
    "    try:\n",
    "        with open(output_file, 'w') as master_file:\n",
    "            master_file.write('C/A,UNIT,SCP,STATION, LINENAME, DIVISION, DATEn,TIMEn,DESCn,ENTRIESn,EXITSn\\n')\n",
    "            for filename in filenames:\n",
    "                # your code here\n",
    "                with open(filename,'r') as infile:\n",
    "                    next(infile)\n",
    "                    for line in infile:\n",
    "                        master_file.write(line) #Writing line by line to the master file\n",
    "        master_file.close()\n",
    "    except:\n",
    "        print(\"Error in creating master file\")\n",
    "\n",
    "\n",
    "print(\"Master File getting created......\")\n",
    "create_master_turnstile_file(filenames,out_file)\n",
    "print(\"Master file \"+out_file+\" created\")"
   ]
  },
  {
   "cell_type": "markdown",
   "metadata": {},
   "source": [
    "\n",
    "\n",
    "Function that reads the master_file created in the previous step and load it into a Pandas Dataframe. This function can be filtered, so that the Dataframe only has lines where column \"DESCn\" has the value \"Regular\".\n",
    "\n",
    "For example, if the Pandas Dataframe looks like this:\n",
    "    \n",
    "    ,C/A,UNIT,SCP,DATEn,TIMEn,DESCn,ENTRIESn,EXITSn\n",
    "    0,A002,R051,02-00-00,05-01-11,00:00:00,REGULAR,3144312,1088151\n",
    "    1,A002,R051,02-00-00,05-01-11,04:00:00,DOOR,3144335,1088159\n",
    "    2,A002,R051,02-00-00,05-01-11,08:00:00,REGULAR,3144353,1088177\n",
    "    3,A002,R051,02-00-00,05-01-11,12:00:00,DOOR,3144424,1088231\n",
    "\n",
    "The Dataframe must look like the following, after filtering only the lines where column DESCn has the value REGULAR:\n",
    "\n",
    "    0,A002,R051,02-00-00,05-01-11,00:00:00,REGULAR,3144312,1088151\n",
    "    2,A002,R051,02-00-00,05-01-11,08:00:00,REGULAR,3144353,1088177\n"
   ]
  },
  {
   "cell_type": "code",
   "execution_count": 23,
   "metadata": {},
   "outputs": [],
   "source": [
    "import pandas as pd\n",
    "\n",
    "def filter_by_regular(filename):\n",
    "    #creating a pandas dataframe for the data filtering\n",
    "    turnstile_data = pd.read_csv(filename)\n",
    "    #Data filtering applying and creating a filtered dataframe\n",
    "    turnstile_data=(turnstile_data[turnstile_data['DESCn'] == 'REGULAR'])\n",
    "    return turnstile_data\n",
    "\n",
    "print(filter_by_regular(r\"Master.txt\"))"
   ]
  },
  {
   "cell_type": "markdown",
   "metadata": {},
   "source": [
    "The NYC Subway data has cumulative entry and exit data in each line. Let's assume you have a Dataframe called df, which contains only lines for one particular turnstile (unique SCP, C/A, and UNIT). The following function must change these cumulative entries for counting all entries since the last reading (entries from the last line of the Dataframe).\n",
    "\n",
    "1 - Create a new column, called ENTRIESn_hourly\n",
    "2 - Insert in this column the difference between ENTRIESn in the current and the previous column. If the line has any NAN, fill it out/replace by 1.\n",
    "\n",
    "Below you will find and example of how your Dataframe should look by the end of this exercise:\n",
    "\n",
    "        C/A  UNIT       SCP     DATEn     TIMEn    DESCn  ENTRIESn    EXITSn  ENTRIESn_hourly\n",
    "    0     A002  R051  02-00-00  05-01-11  00:00:00  REGULAR   3144312   1088151                1\n",
    "    1     A002  R051  02-00-00  05-01-11  04:00:00  REGULAR   3144335   1088159               23\n",
    "    2     A002  R051  02-00-00  05-01-11  08:00:00  REGULAR   3144353   1088177               18\n",
    "    3     A002  R051  02-00-00  05-01-11  12:00:00  REGULAR   3144424   1088231               71\n",
    "    4     A002  R051  02-00-00  05-01-11  16:00:00  REGULAR   3144594   1088275              170\n",
    "    5     A002  R051  02-00-00  05-01-11  20:00:00  REGULAR   3144808   1088317              214\n",
    "    6     A002  R051  02-00-00  05-02-11  00:00:00  REGULAR   3144895   1088328               87\n",
    "    7     A002  R051  02-00-00  05-02-11  04:00:00  REGULAR   3144905   1088331               10\n",
    "    8     A002  R051  02-00-00  05-02-11  08:00:00  REGULAR   3144941   1088420               36\n",
    "    9     A002  R051  02-00-00  05-02-11  12:00:00  REGULAR   3145094   1088753              153\n",
    "    10    A002  R051  02-00-00  05-02-11  16:00:00  REGULAR   3145337   1088823              243"
   ]
  },
  {
   "cell_type": "code",
   "execution_count": 24,
   "metadata": {},
   "outputs": [],
   "source": [
    "import pandas as pd\n",
    "\n",
    "def get_hourly_entries(df):\n",
    "    \n",
    "    df['ENTRIESn_hourly'] = pd.Series(df['ENTRIESn'] - df['ENTRIESn'].shift(1))\n",
    "    df['ENTRIESn_hourly'] = df['ENTRIESn_hourly'].fillna(1)\n",
    "    #your code here\n",
    "    df['ENTRIESn_hourly'] = df['ENTRIESn_hourly'].astype(int)\n",
    "    return df\n",
    "\n",
    "df = pd.read_csv(r\"Master.txt\")\n",
    "print(get_hourly_entries(df))"
   ]
  },
  {
   "cell_type": "markdown",
   "metadata": {},
   "source": [
    "\n"
   ]
  },
  {
   "cell_type": "code",
   "execution_count": 25,
   "metadata": {},
   "outputs": [],
   "source": [
    "import pandas as pd\n",
    "\n",
    "def get_hourly_exits(df):\n",
    "    \n",
    "    df['EXITSn_hourly'] = pd.Series(df['EXITSn'] - df['EXITSn'].shift(1))\n",
    "    df['EXITSn_hourly'] = df['EXITSn_hourly'].fillna(0)\n",
    "    #your code here\n",
    "    df['EXITSn_hourly'] = df['EXITSn_hourly'].astype(int)\n",
    "    return df\n",
    "\n",
    "df = pd.read_csv(r\"Master.txt\")\n",
    "print(get_hourly_exits(df))"
   ]
  },
  {
   "cell_type": "markdown",
   "metadata": {},
   "source": [
    "Given an entry variable that represents time, in the format:\n",
    "     \"00:00:00\" (hour: minutes: seconds)\n",
    "    \n",
    "Function to extract the hour part from the time in the entry variable\n",
    "And return it as an integer. For example:\n",
    "         \n",
    "         1) if hour is 00, your code must return 0\n",
    "         2) if hour is 01, your code must return 1\n",
    "         3) if hour is 21, your code must return 21\n",
    "        \n"
   ]
  },
  {
   "cell_type": "code",
   "execution_count": 26,
   "metadata": {},
   "outputs": [],
   "source": [
    "def time_to_hour(time):\n",
    "    \n",
    "    hour = time.split(':')[0]\n",
    "    if(hour[0] == '0'):\n",
    "        hr = int(hour[1])\n",
    "        return hr\n",
    "    else:\n",
    "        hr = int(hour)\n",
    "        return hr\n",
    "    \n",
    "print(time_to_hour('01:22:22'))\n",
    "print(time_to_hour('00:22:22'))\n",
    "print(time_to_hour('11:22:22'))"
   ]
  },
  {
   "cell_type": "markdown",
   "metadata": {},
   "source": [
    "## Data Analysis\n"
   ]
  },
  {
   "cell_type": "code",
   "execution_count": 27,
   "metadata": {},
   "outputs": [],
   "source": [
    "import pandas as pd\n",
    "\n",
    "filename = \"turnstile_data_master_with_weather.csv\"\n",
    "\n",
    "weather = pd.read_csv(filename, sep=\",\")\n"
   ]
  },
  {
   "cell_type": "markdown",
   "metadata": {},
   "source": [
    "Function that calculates the number of rainy days. For this, return the count of the number of days where the column *\"rain\"* is equal to 1.\n"
   ]
  },
  {
   "cell_type": "code",
   "execution_count": 28,
   "metadata": {},
   "outputs": [
    {
     "data": {
      "text/plain": [
       "44104"
      ]
     },
     "execution_count": 28,
     "metadata": {},
     "output_type": "execute_result"
    }
   ],
   "source": [
    "def num_rainy_days(df):\n",
    "    count = 0\n",
    "    for item in df['rain']:\n",
    "        if(item == 1):\n",
    "            count+=1\n",
    "    return count\n",
    "\n",
    "num_rainy_days(weather)"
   ]
  },
  {
   "cell_type": "markdown",
   "metadata": {},
   "source": [
    "Calculate if the day was cloudy or not (0 or 1) and the maximum temperature for fog (i.e. the maximum temperature \n",
    "     for cloudy days)."
   ]
  },
  {
   "cell_type": "code",
   "execution_count": 29,
   "metadata": {},
   "outputs": [
    {
     "data": {
      "text/plain": [
       "81.0"
      ]
     },
     "execution_count": 29,
     "metadata": {},
     "output_type": "execute_result"
    }
   ],
   "source": [
    "\n",
    "def max_temp_aggregate_by_fog(df):\n",
    "    \n",
    "    cloudy_days = 0\n",
    "    for index, data in df.iterrows():\n",
    "        if(data['fog'] == 1):\n",
    "            cloudy_days=max(cloudy_days, data['maxtempi'])    \n",
    "\n",
    "    return cloudy_days\n",
    "    \n",
    "\n",
    "max_temp_aggregate_by_fog(weather)"
   ]
  },
  {
   "cell_type": "markdown",
   "metadata": {},
   "source": [
    "Calculate the mean for 'meantempi' for the days that are Saturdays or Sundays (weekend):"
   ]
  },
  {
   "cell_type": "code",
   "execution_count": 30,
   "metadata": {},
   "outputs": [
    {
     "data": {
      "text/plain": [
       "65.10066685403307"
      ]
     },
     "execution_count": 30,
     "metadata": {},
     "output_type": "execute_result"
    }
   ],
   "source": [
    "from datetime import date\n",
    "from datetime import time\n",
    "import datetime \n",
    "\n",
    "def avg_weekend_temperature(filename):\n",
    "    df = pd.read_csv(filename, sep=\",\")\n",
    "    df['Date_weekday'] = pd.to_datetime(df['DATEn'])\n",
    "    df['day_of_week'] = df['Date_weekday'].dt.weekday\n",
    "    df = df[(df.day_of_week == 6) | (df.day_of_week == 5)]\n",
    "    return df.meantempi.mean()\n",
    "\n",
    "avg_weekend_temperature(filename)\n"
   ]
  },
  {
   "cell_type": "markdown",
   "metadata": {},
   "source": [
    "Calculate the mean of the minimum temperature 'mintempi' for the days when the minimum temperature was greater that 55 degrees:"
   ]
  },
  {
   "cell_type": "code",
   "execution_count": 31,
   "metadata": {},
   "outputs": [
    {
     "data": {
      "text/plain": [
       "63.2699012987013"
      ]
     },
     "execution_count": 31,
     "metadata": {},
     "output_type": "execute_result"
    }
   ],
   "source": [
    "def avg_min_temperature(filename):\n",
    "    \n",
    "    total = 0\n",
    "    count = 0\n",
    "    df = pd.read_csv(filename)\n",
    "    for min_temp in df['mintempi'].astype(int):\n",
    "        if min_temp > 55:\n",
    "            count+=1\n",
    "            total+=min_temp\n",
    "    avg_min_temp_rainy = (total/count)\n",
    "    \n",
    "    return avg_min_temp_rainy\n",
    "\n",
    "avg_min_temperature(filename)"
   ]
  },
  {
   "cell_type": "markdown",
   "metadata": {},
   "source": [
    "Histograms in the same axis, to show the entries when it's raining vs when it's not. \n",
    "   \n",
    "    "
   ]
  },
  {
   "cell_type": "code",
   "execution_count": 36,
   "metadata": {},
   "outputs": [
    {
     "data": {
      "image/png": "[encoded data removed]",
      "text/plain": [
       "<Figure size 432x288 with 1 Axes>"
      ]
     },
     "metadata": {
      "needs_background": "light"
     },
     "output_type": "display_data"
    }
   ],
   "source": [
    "import numpy as np\n",
    "import pandas as pd\n",
    "import matplotlib.pyplot as plt\n",
    "\n",
    "def entries_histogram(turnstile_weather):\n",
    "        \n",
    "    plt.figure()\n",
    "    \n",
    "    # your code here to plot a histogram for hourly entries when it is not raining\n",
    "    turnstile_weather[turnstile_weather['rain']==0]['ENTRIESn_hourly'].hist(bins=50,color=\"g\")\n",
    "    \n",
    "    # your code here to plot a historgram for hourly entries when it is raining\n",
    "    turnstile_weather[turnstile_weather['rain']==1]['ENTRIESn_hourly'].hist(bins=50,color=\"r\")\n",
    " \n",
    "    return plt\n",
    "\n",
    "df = pd.read_csv(r\"turnstile_data_master_with_weather.csv\")\n",
    "entries_histogram(df).show()"
   ]
  },
  {
   "cell_type": "markdown",
   "metadata": {},
   "source": [
    "The above graph represents - This distribution is highly right-skewed for both the cases. Hourly entries are significantly higher when it doesn't rain. It means more people use the subway when the sky is clear.\n",
    "\n",
    "Funtions below represents -\n",
    "\n",
    "1. The mean of entries when it's raining\n",
    "2. The mean of entries when it's not raining\n",
    "\n",
    "\n"
   ]
  },
  {
   "cell_type": "code",
   "execution_count": 33,
   "metadata": {},
   "outputs": [],
   "source": [
    "import numpy as np\n",
    "import pandas\n",
    "\n",
    "def means(turnstile_weather):\n",
    "        \n",
    "    with_rain = turnstile_weather['ENTRIESn_hourly'][turnstile_weather['rain'] == 1]\n",
    "    without_rain = turnstile_weather['ENTRIESn_hourly'][turnstile_weather['rain'] == 0]\n",
    "    \n",
    "    with_rain_mean = np.mean(with_rain)\n",
    "    without_rain_mean = np.mean(without_rain)\n",
    "    ### YOUR CODE HERE ###\n",
    "    \n",
    "    return with_rain_mean, without_rain_mean # leave this line for the grader\n",
    "\n",
    "df = pd.read_csv(r\"turnstile_data_master_with_weather.csv\")\n",
    "print(means(df))"
   ]
  },
  {
   "cell_type": "markdown",
   "metadata": {},
   "source": [
    "## Map Reduce\n",
    "\n",
    "Mapper -For each entry line, the mapper exit will PRINT (not return) UNIT as a key, and the number of ENTRIESn_hourly as the value. We'll separate the key and the value with a tab. For example: 'R002 \\ t105105.0'\n"
   ]
  },
  {
   "cell_type": "code",
   "execution_count": 34,
   "metadata": {},
   "outputs": [],
   "source": [
    "import sys\n",
    "\n",
    "def mapper():\n",
    "    for line in sys.stdin:\n",
    "        data = line.strip().split(',')\n",
    "        if(data[1] != 'UNIT' and len(data) == 22):\n",
    "            print('{0}\\t{1}'.format(data[1], data[6]))\n",
    "\n",
    "\n",
    "sys.stdin = open('turnstile_data_master_with_weather.csv')\n",
    "sys.stdout = open('mapper_result.txt', 'w')\n",
    "mapper()"
   ]
  },
  {
   "cell_type": "markdown",
   "metadata": {},
   "source": [
    "Reducer -\n",
    "Given the mapper result from the previous exercise, the reducer must print (not return) one line per UNIT, with the total number of ENTRIESn_hourly during May (which is our data duration), separated by a tab. An example of exit line from the reducer may look like this: 'R001 \\ t500625.0'\n",
    "\n",
    "We can assume that the entry for the reducer is ordered in a way that all lines corresponding to a particular unit are grouped. However, the reducer exit will have repetition, as there are stores that appear in different files' locations.\n",
    "\n",
    "Export your reducer into a file named reducer_result.txt and send it with your submission."
   ]
  },
  {
   "cell_type": "code",
   "execution_count": 35,
   "metadata": {},
   "outputs": [],
   "source": [
    "def reducer():\n",
    "    old_unit = None\n",
    "    for line in sys.stdin:\n",
    "        data = line.strip().split('\\t')\n",
    "        if len(data) != 2:\n",
    "            # Something is wrong. Skip this line.\n",
    "            continue\n",
    "            \n",
    "        # same unit\n",
    "        if old_unit and data[0]==old_unit:\n",
    "            count += float(data[1])\n",
    "            \n",
    "        # new unit\n",
    "        else:\n",
    "            # not the first unit\n",
    "            if old_unit:\n",
    "                print('{0}\\t{1}'.format(old_unit,count))\n",
    "            \n",
    "            # reset the unit and count\n",
    "            old_unit = data[0]\n",
    "            count = float(data[1])\n",
    "            \n",
    "    # print the final unit and count\n",
    "    if old_unit:\n",
    "        print('{0}\\t{1}'.format(old_unit,count))\n",
    "\n",
    "\n",
    "sys.stdin = open('mapper_result.txt')\n",
    "sys.stdout = open('reducer_result.txt', 'w')        \n",
    "reducer()"
   ]
  },
  {
   "cell_type": "markdown",
   "metadata": {},
   "source": [
    "Conclusion\n",
    "We compared the hourly trends for Subway user when it rains vs when it doesn't rain. From the graph above, it looks like both distributions are skewed and on an average more people use subway when sky is clear.\n",
    "\n",
    "Then we used Hadoop Streaming to perform a MapReduce job in Python. Mapper function return the number of hourly entries for every unit.\n",
    "\n",
    "And since the keys are already sorted in sys.stdin when passing to mapper(), there is no need to perform the intermediate shuffle sort step. All we have to do is pass the output of mapper() to reducer(). Reducer performs aggregated sum for each key.\n",
    "\n",
    "The result is a single value for every key(unit in this case for every turnstile interactions with subway users)."
   ]
  },
  {
   "cell_type": "code",
   "execution_count": null,
   "metadata": {},
   "outputs": [],
   "source": []
  }
 ],
 "metadata": {
  "celltoolbar": "Edit Metadata",
  "kernelspec": {
   "display_name": "Python 3",
   "language": "python",
   "name": "python3"
  },
  "language_info": {
   "codemirror_mode": {
    "name": "ipython",
    "version": 3
   },
   "file_extension": ".py",
   "mimetype": "text/x-python",
   "name": "python",
   "nbconvert_exporter": "python",
   "pygments_lexer": "ipython3",
   "version": "3.7.6"
  }
 },
 "nbformat": 4,
 "nbformat_minor": 2
}
